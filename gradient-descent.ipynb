{
 "cells": [
  {
   "cell_type": "code",
   "execution_count": 7,
   "metadata": {},
   "outputs": [],
   "source": [
    "import numpy as np\n",
    "from plotly import graph_objs as go"
   ]
  },
  {
   "cell_type": "markdown",
   "metadata": {},
   "source": [
    "Optimization Methods for Machine Learning"
   ]
  },
  {
   "cell_type": "code",
   "execution_count": 4,
   "metadata": {},
   "outputs": [],
   "source": [
    "def f(x, y): return 0.4 * x ** 2 + x * y + 1.3 * y ** 2\n",
    "\n",
    "def gradf(f , *xv, epsilon=1e-6):\n",
    "    \"\"\"\n",
    "    Approximate the numerical gradient of f\n",
    "    at around xv\n",
    "    \n",
    "    Parameters\n",
    "    ----------\n",
    "    f: function\n",
    "        vectorized and derivable function\n",
    "    xv: the evaluating points\n",
    "    \n",
    "    Returns\n",
    "    -------\n",
    "    np.array of shape (len(xv),);\n",
    "    \"\"\"\n",
    "    nx = len(xv)\n",
    "    xv_stack = np.array([xv for _ in range(nx)]).reshape(-1, nx)\n",
    "    xv_stack_pos = (xv_stack + np.eye(nx) * epsilon).T\n",
    "    xv_stack_neg = (xv_stack - np.eye(nx) * epsilon).T\n",
    "    grad = (f(*xv_stack_pos) - f(*xv_stack_neg)) / (2 * epsilon)\n",
    "    return grad"
   ]
  },
  {
   "cell_type": "code",
   "execution_count": 45,
   "metadata": {},
   "outputs": [],
   "source": [
    "x0 = np.array([-3, -3])\n",
    "alpha = 0.1\n",
    "learning_history = [x0]\n",
    "f1, f0 = f(*x0), 1e6\n",
    "while abs(f1 / f0 - 1) > 1e-2:\n",
    "    x0 = x0 - alpha * gradf(f, *x0)\n",
    "    learning_history.append(x0)\n",
    "    f0, f1 = f1, f(*x0)\n",
    "\n",
    "X, Y = np.mgrid[-4: 4:0.1, -4: 4:0.1]\n",
    "Z = f(X, Y)\n",
    "\n",
    "\n",
    "learning_history = np.r_[learning_history]"
   ]
  },
  {
   "cell_type": "code",
   "execution_count": 51,
   "metadata": {},
   "outputs": [
    {
     "data": {
      "application/vnd.jupyter.widget-view+json": {
       "model_id": "75776e268e0147b7b65f6047ded84b38",
       "version_major": 2,
       "version_minor": 0
      },
      "text/plain": [
       "FigureWidget({\n",
       "    'data': [{'colorscale': 'Viridis',\n",
       "              'ncontours': 30,\n",
       "              'type': 'co…"
      ]
     },
     "metadata": {},
     "output_type": "display_data"
    }
   ],
   "source": [
    "xyrang = np.arange(-4, 4, 0.1)\n",
    "fig = go.FigureWidget(data=[\n",
    "    go.Contour(z=Z, x=xyrang, y=xyrang, colorscale=\"Viridis\", ncontours=30),\n",
    "    go.Scatter(x=learning_history[:,1], y=learning_history[:,0], mode=\"lines+markers\"),\n",
    "])\n",
    "\n",
    "fig"
   ]
  }
 ],
 "metadata": {
  "kernelspec": {
   "display_name": "Python 3",
   "language": "python",
   "name": "python3"
  },
  "language_info": {
   "codemirror_mode": {
    "name": "ipython",
    "version": 3
   },
   "file_extension": ".py",
   "mimetype": "text/x-python",
   "name": "python",
   "nbconvert_exporter": "python",
   "pygments_lexer": "ipython3",
   "version": "3.6.6"
  }
 },
 "nbformat": 4,
 "nbformat_minor": 2
}
