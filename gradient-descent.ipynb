{
 "cells": [
  {
   "cell_type": "code",
   "execution_count": 6,
   "metadata": {},
   "outputs": [],
   "source": [
    "import numpy as np\n",
    "from plotly import plotly\n",
    "from plotly.grid_objs import Grid, Column\n",
    "from plotly import graph_objs as go"
   ]
  },
  {
   "cell_type": "markdown",
   "metadata": {},
   "source": [
    "Optimization Methods for Machine Learning"
   ]
  },
  {
   "cell_type": "code",
   "execution_count": 5,
   "metadata": {},
   "outputs": [],
   "source": [
    "def f(x, y): return 0.4 * x ** 2 + x * y + 1.3 * y ** 2\n",
    "\n",
    "def gradf(f , *xv, epsilon=1e-6):\n",
    "    \"\"\"\n",
    "    Approximate the numerical gradient of f\n",
    "    at around xv\n",
    "    \n",
    "    Parameters\n",
    "    ----------\n",
    "    f: function\n",
    "        vectorized and derivable function\n",
    "    xv: the evaluating points\n",
    "    \n",
    "    Returns\n",
    "    -------\n",
    "    np.array of shape (len(xv),);\n",
    "    \"\"\"\n",
    "    nx = len(xv)\n",
    "    xv_stack = np.array([xv for _ in range(nx)]).reshape(-1, nx)\n",
    "    xv_stack_pos = (xv_stack + np.eye(nx) * epsilon).T\n",
    "    xv_stack_neg = (xv_stack - np.eye(nx) * epsilon).T\n",
    "    grad = (f(*xv_stack_pos) - f(*xv_stack_neg)) / (2 * epsilon)\n",
    "    return grad"
   ]
  },
  {
   "cell_type": "code",
   "execution_count": 27,
   "metadata": {},
   "outputs": [
    {
     "data": {
      "text/plain": [
       "(16, 16)"
      ]
     },
     "execution_count": 27,
     "metadata": {},
     "output_type": "execute_result"
    }
   ],
   "source": [
    "step = 0.5\n",
    "xmin, xmax = -4, 4\n",
    "ymin, ymax = -4, 4\n",
    "xvals = np.arange(xmin, xmax, step)\n",
    "yvals = np.arange(ymin, ymax, step)\n",
    "X, Y = np.mgrid[xmin:xmax:step, ymin:ymax:step]\n",
    "Z = f(X, Y)\n",
    "Z.shape"
   ]
  },
  {
   "cell_type": "code",
   "execution_count": 47,
   "metadata": {},
   "outputs": [],
   "source": [
    "x0 = np.array([-3, -3])\n",
    "alpha = 0.1\n",
    "learning_history = [x0]\n",
    "f1, f0 = f(*x0), 1e6\n",
    "while abs(f1 / f0 - 1) > 1e-2:\n",
    "    x0 = x0 - alpha * gradf(f, *x0)\n",
    "    learning_history.append(x0)\n",
    "    f0, f1 = f1, f(*x0)\n",
    "\n",
    "learning_history = np.r_[learning_history]"
   ]
  },
  {
   "cell_type": "code",
   "execution_count": 113,
   "metadata": {},
   "outputs": [],
   "source": [
    "x, y = learning_history.T\n",
    "x = x[:50]\n",
    "y = y[:50]\n",
    "learning_xcols = [Column(x[:i+1], f\"x{i}\") for i, _ in enumerate(x)]\n",
    "learning_ycols = [Column(y[:i+1], f\"y{i}\") for i, _ in enumerate(y)]\n"
   ]
  },
  {
   "cell_type": "code",
   "execution_count": 106,
   "metadata": {},
   "outputs": [],
   "source": [
    "columns_mesh = [Column(xvals, \"xvals\"), Column(yvals, \"yvals\"), Column(Z, \"name\")]\n",
    "columns_learn = [*learning_xcols, *learning_ycols]"
   ]
  },
  {
   "cell_type": "code",
   "execution_count": 90,
   "metadata": {},
   "outputs": [
    {
     "data": {
      "text/plain": [
       "'https://plot.ly/~ger94/124/'"
      ]
     },
     "execution_count": 90,
     "metadata": {},
     "output_type": "execute_result"
    }
   ],
   "source": [
    "grid_mesh = Grid(columns_mesh)\n",
    "plotly.grid_ops.upload(grid_mesh, \"mesh_grid\", auto_open=False)"
   ]
  },
  {
   "cell_type": "code",
   "execution_count": 114,
   "metadata": {},
   "outputs": [
    {
     "data": {
      "text/plain": [
       "'https://plot.ly/~ger94/125/'"
      ]
     },
     "execution_count": 114,
     "metadata": {},
     "output_type": "execute_result"
    }
   ],
   "source": [
    "grid_learn = Grid(columns_learn)\n",
    "plotly.grid_ops.upload(grid_learn, \"learn01_grid\", auto_open=False)"
   ]
  },
  {
   "cell_type": "code",
   "execution_count": 156,
   "metadata": {},
   "outputs": [],
   "source": [
    "frames = [\n",
    "    {\"data\": [\n",
    "        {\"xsrc\": grid_learn.get_column_reference(f\"x{i}\"),\n",
    "        \"ysrc\": grid_learn.get_column_reference(f\"y{i}\"),\n",
    "        \"mode\": \"markers\"},\n",
    "        \n",
    "    ]\n",
    "} for i, _ in enumerate(x)]"
   ]
  },
  {
   "cell_type": "code",
   "execution_count": 158,
   "metadata": {},
   "outputs": [
    {
     "data": {
      "text/plain": [
       "'https://plot.ly/~ger94/142/'"
      ]
     },
     "execution_count": 158,
     "metadata": {},
     "output_type": "execute_result"
    }
   ],
   "source": [
    "data = [\n",
    "    go.Scatter(xsrc=grid_learn.get_column_reference(\"x0\"),\n",
    "               ysrc=grid_learn.get_column_reference(\"y0\"),\n",
    "               mode=\"markers\"),\n",
    "    go.Contour(xsrc=grid_mesh.get_column_reference(\"xvals\"),\n",
    "               ysrc=grid_mesh.get_column_reference(\"yvals\"),\n",
    "               zsrc=grid_mesh.get_column_reference(\"name\"),\n",
    "               colorscale=\"Viridis\"),\n",
    "]\n",
    "\n",
    "layout = {\n",
    "    \"xaxis\": {\"range\": [-4, 4], \"autorange\": False},\n",
    "    \"yaxis\": {\"range\": [-4, 4], \"autorange\": False},\n",
    "    \"updatemenus\": [{\n",
    "        \"buttons\": [{\n",
    "            \"label\": \"Accion\",\n",
    "            \"method\": \"animate\",\n",
    "            \"args\": [None,\n",
    "                    {\"frame\": {\"duration\": 100, \"redraw\": False},\n",
    "                     \"fromcurrent\":True,\n",
    "                     \"mode\": \"immediate\"}]\n",
    "        }],\n",
    "        \"pad\": {\"r\":10, \"t\":87},\n",
    "        \"showactive\": False,\n",
    "        \"type\": \"buttons\"\n",
    "    }]\n",
    "}\n",
    "\n",
    "figure = {\n",
    "    \"data\": data,\n",
    "    \"layout\": layout,\n",
    "    \"frames\": frames\n",
    "}\n",
    "\n",
    "plotly.create_animations(figure, filename=\"learn01\")"
   ]
  },
  {
   "cell_type": "code",
   "execution_count": 22,
   "metadata": {},
   "outputs": [],
   "source": [
    "x0 = np.array([-3, -3])\n",
    "alpha = 0.1\n",
    "learning_history = [x0]\n",
    "f1, f0 = f(*x0), 1e6\n",
    "while abs(f1 / f0 - 1) > 1e-2:\n",
    "    x0 = x0 - alpha * gradf(f, *x0)\n",
    "    learning_history.append(x0)\n",
    "    f0, f1 = f1, f(*x0)\n",
    "\n",
    "\n",
    "learning_history = np.r_[learning_history]"
   ]
  },
  {
   "cell_type": "code",
   "execution_count": 23,
   "metadata": {},
   "outputs": [
    {
     "data": {
      "application/vnd.jupyter.widget-view+json": {
       "model_id": "34252d3715da46fdac4fcfdee2877637",
       "version_major": 2,
       "version_minor": 0
      },
      "text/plain": [
       "FigureWidget({\n",
       "    'data': [{'colorscale': 'Viridis',\n",
       "              'ncontours': 30,\n",
       "              'type': 'co…"
      ]
     },
     "metadata": {},
     "output_type": "display_data"
    }
   ],
   "source": [
    "xyrang = np.arange(-4, 4, step)\n",
    "fig = go.FigureWidget(data=[\n",
    "    go.Contour(z=Z, x=xyrang, y=xyrang, colorscale=\"Viridis\", ncontours=30),\n",
    "    go.Scatter(x=learning_history[:,1], y=learning_history[:,0], mode=\"lines+markers\"),\n",
    "])\n",
    "\n",
    "fig"
   ]
  }
 ],
 "metadata": {
  "kernelspec": {
   "display_name": "Python 3",
   "language": "python",
   "name": "python3"
  },
  "language_info": {
   "codemirror_mode": {
    "name": "ipython",
    "version": 3
   },
   "file_extension": ".py",
   "mimetype": "text/x-python",
   "name": "python",
   "nbconvert_exporter": "python",
   "pygments_lexer": "ipython3",
   "version": "3.6.6"
  }
 },
 "nbformat": 4,
 "nbformat_minor": 2
}
